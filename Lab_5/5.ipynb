{
  "cells": [
    {
      "cell_type": "code",
      "execution_count": null,
      "metadata": {
        "id": "ZrtPlyvTIhlQ"
      },
      "outputs": [],
      "source": [
        "import numpy as np\n",
        "from numpy import average\n",
        "import os\n",
        "import matplotlib.pyplot as plt\n",
        "from sklearn.model_selection import train_test_split"
      ]
    },
    {
      "cell_type": "code",
      "execution_count": null,
      "metadata": {
        "id": "IvjHfggWTjU8"
      },
      "outputs": [],
      "source": [
        "path = 'a.npy'\n",
        "pathForBias = 'aBias.npy'\n",
        "def SaveWeigthsInFile(path, network):\n",
        "  np.save(path, network.BestWeights)\n",
        "\n",
        "def SaveBiasWeightsInFile(path, network):\n",
        "  np.save(path, network.BestBiasWeights)\n",
        "\n",
        "def ReadWeigthFromFile(path):\n",
        "  return np.load(path,allow_pickle=True)"
      ]
    },
    {
      "cell_type": "code",
      "execution_count": null,
      "metadata": {
        "id": "261XG6YCTlH8"
      },
      "outputs": [],
      "source": [
        "def approximationFunc(x):\n",
        "    return np.power(x,2)*np.exp(np.sin(x))"
      ]
    },
    {
      "cell_type": "code",
      "execution_count": null,
      "metadata": {
        "id": "JURgxkbcTmbo"
      },
      "outputs": [],
      "source": [
        "def sigmoid(x):\n",
        "    #Сигмоидная функция активации: f(x) = 1 / (1 + e^(-x))\n",
        "    return x / (1 + np.abs(x))\n",
        "    #return 1 if x > 0 else 0\n",
        "\n",
        "def dersigmoid(s):\n",
        "  return 1 / (1 + np.abs(s))**2\n",
        "\n",
        "def Hebb(weight, ny, x0, y, e):\n",
        "    return weight - ny * x0 * (y - e)"
      ]
    },
    {
      "cell_type": "code",
      "execution_count": null,
      "metadata": {
        "id": "XZLqGAWVToC_"
      },
      "outputs": [],
      "source": [
        "\n",
        "class Neuron:\n",
        "    def __init__(self, weights, bias =1, biasWigth = 1, knowingRatio = 0.9):\n",
        "        self.Weights = weights\n",
        "        self.DeltaWeights = np.zeros(len(weights))\n",
        "        self.Bias = bias\n",
        "        self.KnowingRatio = knowingRatio\n",
        "        self.Beta = 0\n",
        "        self.dW = 0\n",
        "        self.dB = 0\n",
        "        self.BiasWigth = biasWigth\n",
        "    \n",
        "    def feedforward(self, inputs):\n",
        "        self.LastInput = inputs\n",
        "        total = np.dot(self.Weights, inputs) + self.Bias * self.BiasWigth\n",
        "        self.LastRezult = total\n",
        "        return sigmoid(total)\n",
        "    \n",
        "    \n",
        "    def WeightCorrection(self, lam):\n",
        "      self.dW = self.KnowingRatio*self.dW + (1 - self.KnowingRatio) * np.square(self.Beta) \n",
        "      self.dB = self.KnowingRatio*self.dB + (1 - self.KnowingRatio) * np.square(self.Beta)\n",
        "      \n",
        "      self.Weights = self.Weights - np.dot(lam * self.Beta/(np.sqrt(self.dW) + 0.0001), self.LastInput)\n",
        "      self.BiasWigth = self.BiasWigth - lam * self.Beta/(np.sqrt(self.dB) + 0.0001)\n",
        "                "
      ]
    },
    {
      "cell_type": "code",
      "execution_count": null,
      "metadata": {
        "id": "fBaWxoLhTq5r"
      },
      "outputs": [],
      "source": [
        "class HebbNetworkGradient:\n",
        "    def __init__(self, neuronsCountArray,biasWeights = [], Weights = [],\n",
        "                eps = 0.1, lam = 0.1, epochs = 20000, neuroneKnowingRatio = 0.9,\n",
        "                 drawInfo = True, drawInfoEpochs = 1000):\n",
        "        '''\n",
        "        neuronsCountArray example [25, 14, 7, 3, 1] where each number mean\n",
        "         a count of neurons in the layer\n",
        "        ''' \n",
        "        self.IsDrawInfo = drawInfo\n",
        "        self.DrawInfoEpochs = drawInfoEpochs\n",
        "\n",
        "        self.Eps = eps\n",
        "        self.T = 0\n",
        "        self.Epochs = epochs\n",
        "        self.Lam = lam\n",
        "        self.BestWeights = []\n",
        "        self.BestBiasWeights = []\n",
        "        self.BestL = 10000000000\n",
        "        self.L = []\n",
        "        self.Neurons = {}\n",
        "        for i in range(1, len(neuronsCountArray)):\n",
        "          self.Neurons[i] = []\n",
        "          if(len(Weights) == 0):\n",
        "            for j in range(neuronsCountArray[i]):\n",
        "              self.Neurons[i].append(Neuron(np.random.randint(-10,10,neuronsCountArray[i-1]), 1, knowingRatio=neuroneKnowingRatio)) \n",
        "          else:\n",
        "            print(i)\n",
        "            for j in range(len(Weights[i-1])):\n",
        "              self.Neurons[i].append(Neuron(Weights[i-1][j], 1, biasWeights[i-1][j], knowingRatio=neuroneKnowingRatio))\n",
        "    \n",
        "    def fit(self, X, y):\n",
        "        self.T = 1\n",
        "        self.CalculateLoss(X,y)\n",
        "        while self.L[len(self.L)-1] > self.Eps and self.T < self.Epochs:\n",
        "            n_rule = np.random.randint(len(X))\n",
        "            #for n_rule in range(len(X)):\n",
        "            e = self.feedforward(X[n_rule])\n",
        "            if any(np.abs(self.lossFunction(y[n_rule],e))) > self.Eps:\n",
        "              #if np.argmax(y[n_rule]) != e.index(max(e)):\n",
        "                  self.WeightCorrection(y[n_rule])\n",
        "                  self.CalculateLoss(X,y)\n",
        "                  self.T+=1\n",
        "        print(\"network was learned for\",self.T,\"generations\")\n",
        "    \n",
        "    def predict(self, data):\n",
        "        y = []\n",
        "        for i in data:\n",
        "          y.append(self.feedforward(i))\n",
        "        return y\n",
        "        \n",
        "    def feedforward(self, inputs):\n",
        "        y = [neuron.feedforward(inputs) for neuron in self.Neurons[1]]\n",
        "        for i in self.Neurons:\n",
        "          if i == 1:\n",
        "            continue\n",
        "          else:\n",
        "            y = [neuron.feedforward(y) for neuron in self.Neurons[i]]\n",
        "        \n",
        "        return y\n",
        "\n",
        "    def lossFunction(self, e, y):\n",
        "      return np.abs((e - y)/e)\n",
        "\n",
        "    def CalculateLoss(self, x,y):\n",
        "      loss = 0\n",
        "      for j in range(len(x)):\n",
        "        e = self.feedforward(x[j])\n",
        "        loss += np.average(self.lossFunction(e, y[j]))\n",
        "      \n",
        "      self.L.append(loss/len(y))\n",
        "      \n",
        "      if(self.L[len(self.L)-1] < self.BestL):\n",
        "        self.BestL = self.L[len(self.L)-1]\n",
        "        print(\"New best L:\",self.BestL)\n",
        "        weigths = []\n",
        "        for i in self.Neurons:\n",
        "          weigths.append([])\n",
        "          for j in self.Neurons[i]:\n",
        "            weigths[i-1].append(j.Weights)\n",
        "        self.BestWeights = weigths\n",
        "\n",
        "        weigths = []\n",
        "        for i in self.Neurons:\n",
        "          weigths.append([])\n",
        "          for j in self.Neurons[i]:\n",
        "            weigths[i-1].append(j.BiasWigth)\n",
        "        self.BestBiasWeights = weigths\n",
        "      \n",
        "      \n",
        "      if self.IsDrawInfo and self.T % self.DrawInfoEpochs == 0 and self.T != 0:\n",
        "        ratio = self.DrawInfoEpochs\n",
        "        print(\"T\",self.T,\"Loss\",self.L[len(self.L)-1], \"BestLoss\", self.BestL)\n",
        "        plt.plot(range(self.T-ratio,self.T), self.L[(self.T-ratio):self.T])\n",
        "        plt.show()\n",
        "      \n",
        "      return self.L[len(self.L)-1]\n",
        "\n",
        "    def WeightCorrection(self,e):\n",
        "      for i in range(len(self.Neurons[len(self.Neurons)])):\n",
        "        neurone = self.Neurons[len(self.Neurons)][i]\n",
        "        y = sigmoid(neurone.LastRezult)\n",
        "        beta = (y - e[i]) * dersigmoid(neurone.LastRezult)\n",
        "        neurone.Beta = beta\n",
        "        neurone.WeightCorrection(self.Lam)\n",
        "        beta1 = beta * neurone.Weights *  dersigmoid(neurone.LastRezult)\n",
        "        self.AddBetaInPreviousLayer( beta1, len(self.Neurons)-1)\n",
        "\n",
        "      self.BackLayerPropagation(len(self.Neurons)-1)\n",
        "\n",
        "      self.Optimization()\n",
        "\n",
        "    \n",
        "    def BackLayerPropagation(self, layerIndex):\n",
        "      if layerIndex == 0:\n",
        "        return\n",
        "      #Для всех слоёв не считая начального\n",
        "      for neurone in self.Neurons[layerIndex]:\n",
        "        neurone.WeightCorrection(self.Lam)\n",
        "        beta1 = neurone.Beta * neurone.Weights *  dersigmoid(neurone.LastRezult)\n",
        "        self.AddBetaInPreviousLayer( beta1, layerIndex-1)\n",
        "        \n",
        "      \n",
        "      self.BackLayerPropagation(layerIndex-1) \n",
        "\n",
        "    def Optimization(self):\n",
        "      for layerIndex in range(1, len(self.Neurons)+1):\n",
        "        for neurone in self.Neurons[layerIndex]: \n",
        "          neurone.Beta = 0\n",
        "\n",
        "\n",
        "    def AddBetaInPreviousLayer(self, beta, layerIndex):\n",
        "      if layerIndex == 0:\n",
        "        return\n",
        "      for i in range(len(self.Neurons[layerIndex])):\n",
        "        self.Neurons[layerIndex][i].Beta += beta[i]"
      ]
    },
    {
      "cell_type": "code",
      "execution_count": null,
      "metadata": {
        "colab": {
          "base_uri": "https://localhost:8080/",
          "height": 282
        },
        "id": "OW4751LaTsea",
        "outputId": "24c2bd10-0cd4-4564-daa4-933af19e975f"
      },
      "outputs": [
        {
          "name": "stdout",
          "output_type": "stream",
          "text": [
            "Trains\n"
          ]
        },
        {
          "data": {
            "image/png": "[encoded data removed]",
            "text/plain": [
              "<Figure size 432x288 with 1 Axes>"
            ]
          },
          "metadata": {},
          "output_type": "display_data"
        }
      ],
      "source": [
        "x_min = 10\n",
        "x_max = 100\n",
        "x = np.arange(x_min, x_max, 0.5)\n",
        "x = x.reshape(-1,1)\n",
        "x = x\n",
        "y = approximationFunc(x)\n",
        "y = y.reshape(-1,1)\n",
        "y = y/np.max(y)\n",
        "\n",
        "print(\"Trains\")\n",
        "plt.plot(x,y)\n",
        "plt.show()"
      ]
    },
    {
      "cell_type": "code",
      "execution_count": null,
      "metadata": {
        "id": "Ndayl5HLTxHT"
      },
      "outputs": [],
      "source": [
        "weights = [];\n",
        "biasWeights = [];"
      ]
    },
    {
      "cell_type": "code",
      "execution_count": null,
      "metadata": {
        "id": "jIvDPWvQTysq"
      },
      "outputs": [],
      "source": [
        "class RBF:\n",
        "    def __init__(self, R = 1) -> None:\n",
        "        self.R = 1\n",
        "        self.A = 1/(2 * self.R * self.R)\n",
        "    \n",
        "    def fun_act(self, x, r, c):\n",
        "        return np.exp(-np.square(x - c)/np.square(r))\n",
        "\n",
        "    def fun_h(self, x,r,c):\n",
        "        return np.exp(-r*np.abs(x - c))\n",
        "\n",
        "    def fun_H(self, t_x, t_c, r):\n",
        "        H = np.zeros((len(t_x), len(t_c)))\n",
        "        for i in range(len(t_x)):\n",
        "            for j in range(len(t_c)):\n",
        "                H[i][j] = self.fun_h(t_x[i], r, t_c[j])\n",
        "        return H\n",
        "\n",
        "    def fun_RBN(self, x, t_c, a, w):\n",
        "        h = np.zeros((len(t_c)))\n",
        "        for i in range(len(t_c)):\n",
        "            h[i] = self.fun_h(x, a, t_c[i])\n",
        "        return np.dot(h,w)\n",
        "\n",
        "    def fit(self, x, y, c):\n",
        "        H = self.fun_H(x, c, self.A)\n",
        "        H_ = np.dot(np.linalg.inv(np.dot(H.transpose(), H)), H.transpose())\n",
        "        W = np.dot(H_, y)\n",
        "        self.W = W\n",
        "\n",
        "    def predict(self, data, c):\n",
        "        pred_y = np.zeros((len(data)))\n",
        "        for i in range(len(data)):\n",
        "            pred_y[i] = self.fun_RBN(data[i], c, self.A, self.W)\n",
        "        return pred_y"
      ]
    },
    {
      "cell_type": "code",
      "execution_count": null,
      "metadata": {
        "id": "bR1BSdTvT1fl"
      },
      "outputs": [],
      "source": [
        "test_x = np.arange(x_min, x_max, 0.1)\n",
        "test_x = test_x.reshape((-1,1))\n",
        "\n",
        "test_y = approximationFunc(test_x)\n",
        "test_y  = test_y.reshape((-1,1))\n",
        "test_y = test_y/np.max(test_y)"
      ]
    },
    {
      "cell_type": "code",
      "execution_count": null,
      "metadata": {
        "colab": {
          "base_uri": "https://localhost:8080/"
        },
        "id": "DBI9yKSlT3ze",
        "outputId": "011af027-20d0-4f2d-c387-655dbd5731b0"
      },
      "outputs": [
        {
          "name": "stdout",
          "output_type": "stream",
          "text": [
            "New best L: 1.1959016685447896\n",
            "New best L: 0.8044677066436577\n",
            "New best L: 0.8044675380559559\n",
            "New best L: 0.8044672977552614\n",
            "New best L: 0.8044665710258256\n",
            "New best L: 0.8044664477717216\n",
            "New best L: 0.8044657603448621\n",
            "New best L: 0.8044648493820615\n",
            "New best L: 0.8044634706774789\n",
            "New best L: 0.8044601934397881\n",
            "New best L: 0.8044590367209116\n",
            "New best L: 0.8044566748399349\n",
            "New best L: 0.804451420449104\n",
            "New best L: 0.8044440982118811\n",
            "New best L: 0.8044353708859894\n",
            "New best L: 0.8044246988927435\n",
            "New best L: 0.8044117602480911\n",
            "New best L: 0.8043928475275594\n",
            "New best L: 0.8043738110748117\n",
            "New best L: 0.8043414828322171\n",
            "New best L: 0.8042429335933151\n",
            "New best L: 0.8041220391316792\n",
            "New best L: 0.8038723275606551\n",
            "New best L: 0.8037300058713943\n",
            "New best L: 0.8030645943967679\n",
            "New best L: 0.8006916188842846\n",
            "New best L: 0.7726131197653356\n",
            "New best L: 0.7693872621379656\n",
            "New best L: 0.7636543266375591\n",
            "New best L: 0.7632894390963055\n",
            "New best L: 0.7579298441948904\n",
            "New best L: 0.7550398646432908\n",
            "New best L: 0.7528015432462147\n",
            "New best L: 0.7465663015100635\n",
            "New best L: 0.7437125842808576\n",
            "New best L: 0.738301461357289\n",
            "New best L: 0.733923095816474\n",
            "New best L: 0.7338104077354599\n",
            "New best L: 0.7301523194770831\n",
            "New best L: 0.7293229373913366\n",
            "New best L: 0.7272736752589917\n",
            "New best L: 0.7170729317630171\n",
            "New best L: 0.7170278557427996\n",
            "New best L: 0.7100346784711062\n",
            "New best L: 0.7073585553161803\n",
            "New best L: 0.6941870830599353\n",
            "New best L: 0.6912968594058919\n",
            "New best L: 0.6813075002262333\n",
            "New best L: 0.67321094467794\n",
            "New best L: 0.6516222465181811\n",
            "New best L: 0.6206924490140785\n",
            "network was learned for 20000 generations\n"
          ]
        }
      ],
      "source": [
        "perceptron1layer = HebbNetworkGradient([1,7,1], neuroneKnowingRatio=0.5, eps = 0.1, lam=0.001, drawInfo=False)\n",
        "perceptron1layer.fit(x,y)"
      ]
    },
    {
      "cell_type": "code",
      "execution_count": null,
      "metadata": {
        "colab": {
          "background_save": true,
          "base_uri": "https://localhost:8080/"
        },
        "id": "D0dgB1waT5oG",
        "outputId": "182acf32-278c-4adf-cf3e-9fce22b5f37b"
      },
      "outputs": [
        {
          "name": "stdout",
          "output_type": "stream",
          "text": [
            "New best L: 0.7424720080371437\n",
            "New best L: 0.7421831147764218\n",
            "New best L: 0.7419304755353279\n",
            "New best L: 0.7416960780462489\n",
            "New best L: 0.7414472347555503\n",
            "New best L: 0.7412648345683631\n",
            "New best L: 0.7410039398252131\n",
            "New best L: 0.7407367276625091\n",
            "New best L: 0.7404811000420375\n",
            "New best L: 0.7402389614183643\n",
            "New best L: 0.7401347522212691\n",
            "New best L: 0.7398637553380567\n",
            "New best L: 0.7395833501475088\n",
            "New best L: 0.7393040924184109\n",
            "New best L: 0.7390747985901964\n",
            "New best L: 0.7390229920324395\n",
            "New best L: 0.7387444026074119\n",
            "New best L: 0.7385557065297875\n",
            "New best L: 0.7382550753419581\n",
            "New best L: 0.7379739951199166\n",
            "New best L: 0.737879989702852\n",
            "New best L: 0.7375579673372673\n",
            "New best L: 0.7373039889127758\n",
            "New best L: 0.7369885522822968\n",
            "New best L: 0.7367284906292475\n",
            "New best L: 0.7364196219663883\n",
            "New best L: 0.7360849980645842\n",
            "New best L: 0.7357826697926062\n",
            "New best L: 0.7354551785051948\n",
            "New best L: 0.7353628378770537\n",
            "New best L: 0.7350133017320777\n",
            "New best L: 0.7346898608732685\n",
            "New best L: 0.7343675151405697\n",
            "New best L: 0.7340651946593652\n",
            "New best L: 0.73382318175192\n",
            "New best L: 0.7335349938503012\n",
            "New best L: 0.7335225957024503\n",
            "New best L: 0.7331831807159636\n",
            "New best L: 0.7329074338534192\n",
            "New best L: 0.7325660153852138\n",
            "New best L: 0.7321982930275804\n",
            "New best L: 0.731833539694529\n",
            "New best L: 0.7314900452020398\n",
            "New best L: 0.7311586856046475\n",
            "New best L: 0.7308024468615735\n",
            "New best L: 0.7304131337945421\n",
            "New best L: 0.7300635082722967\n",
            "New best L: 0.7296711895245974\n",
            "New best L: 0.7292920356110477\n",
            "New best L: 0.728918357868049\n",
            "New best L: 0.7285390509508858\n",
            "New best L: 0.72813794504919\n",
            "New best L: 0.7278859228447904\n",
            "New best L: 0.7274934830711206\n",
            "New best L: 0.7271167165462917\n",
            "New best L: 0.7268926689614257\n",
            "New best L: 0.7264638681430482\n",
            "New best L: 0.7260626260448598\n",
            "New best L: 0.7256874707224509\n",
            "New best L: 0.725294108141051\n",
            "New best L: 0.7249085538651175\n",
            "New best L: 0.7245261130572624\n",
            "New best L: 0.7244128094736207\n",
            "New best L: 0.7239969870269272\n",
            "New best L: 0.7235762152154845\n",
            "New best L: 0.7231976539756213\n",
            "New best L: 0.7228258466419769\n",
            "New best L: 0.7225927638505237\n",
            "New best L: 0.7221826502949399\n",
            "New best L: 0.721789383535547\n",
            "New best L: 0.7213943279317399\n",
            "New best L: 0.721024328252994\n",
            "New best L: 0.7207736508904761\n",
            "New best L: 0.72072598623002\n",
            "New best L: 0.7207129223152234\n",
            "New best L: 0.7202238377076499\n",
            "New best L: 0.7197755885293947\n",
            "New best L: 0.7193287758183227\n",
            "New best L: 0.718925564420516\n",
            "New best L: 0.7184755225695475\n",
            "New best L: 0.7180151753652955\n",
            "New best L: 0.7176024062492352\n",
            "New best L: 0.7173408354948356\n",
            "New best L: 0.7166221737843287\n",
            "New best L: 0.7158548820272418\n",
            "New best L: 0.7146965871136806\n",
            "New best L: 0.7141172097038787\n",
            "New best L: 0.7120753200760057\n",
            "New best L: 0.7106836416858885\n",
            "New best L: 0.708644962371876\n",
            "New best L: 0.708596447580465\n",
            "New best L: 0.6948784511665119\n",
            "New best L: 0.6932406910806015\n",
            "New best L: 0.6909331465126338\n",
            "New best L: 0.6888954708597086\n",
            "New best L: 0.6864741237299268\n",
            "New best L: 0.6741909613882197\n",
            "New best L: 0.6726101053921713\n",
            "New best L: 0.6625950889100037\n",
            "New best L: 0.6610520596415993\n",
            "New best L: 0.6416083825363034\n",
            "New best L: 0.6365523714678663\n",
            "New best L: 0.5225348353333936\n",
            "network was learned for 20000 generations\n"
          ]
        }
      ],
      "source": [
        "perceptron2layer = HebbNetworkGradient([1,7,7,1], neuroneKnowingRatio=0.3, eps = 0.1, lam=0.001, drawInfo=False)\n",
        "perceptron2layer.fit(x,y)"
      ]
    },
    {
      "cell_type": "code",
      "execution_count": null,
      "metadata": {
        "colab": {
          "background_save": true
        },
        "id": "JtU0ca8YT6xT"
      },
      "outputs": [],
      "source": [
        "n = 5\n",
        "c = np.arange(x_min, x_max, (x_max-x_min)/n)\n",
        "c = c.reshape(-1,1)\n",
        "rbf = RBF()\n",
        "rbf.fit(x, y, c)"
      ]
    },
    {
      "cell_type": "code",
      "execution_count": null,
      "metadata": {
        "colab": {
          "background_save": true
        },
        "id": "rCkY5X-QT8jr",
        "outputId": "5c2e12d1-8dab-458f-d721-a1c7108d4fcd"
      },
      "outputs": [
        {
          "name": "stdout",
          "output_type": "stream",
          "text": [
            "1\n",
            "2\n"
          ]
        }
      ],
      "source": [
        "perceptron1layer = HebbNetworkGradient([1,7,1], perceptron1layer.BestBiasWeights, perceptron1layer.BestWeights)"
      ]
    },
    {
      "cell_type": "code",
      "execution_count": null,
      "metadata": {
        "colab": {
          "background_save": true
        },
        "id": "o2UAvpsyT8eF",
        "outputId": "18b034ee-196e-465d-be01-836b66b0f700"
      },
      "outputs": [
        {
          "name": "stdout",
          "output_type": "stream",
          "text": [
            "1\n",
            "2\n",
            "3\n"
          ]
        }
      ],
      "source": [
        "perceptron2layer = HebbNetworkGradient([1,7,7,1], perceptron2layer.BestBiasWeights, perceptron2layer.BestWeights)"
      ]
    },
    {
      "cell_type": "code",
      "execution_count": null,
      "metadata": {
        "colab": {
          "background_save": true
        },
        "id": "q6RzRLpWT-18",
        "outputId": "e5c8de3e-2fe5-4713-c674-63f15b64b8a8"
      },
      "outputs": [
        {
          "data": {
            "image/png": "[encoded data removed]",
            "text/plain": [
              "<Figure size 432x288 with 1 Axes>"
            ]
          },
          "metadata": {},
          "output_type": "display_data"
        }
      ],
      "source": [
        "from turtle import color\n",
        "\n",
        "pred_y_rbf = rbf.predict(test_x,c)\n",
        "pred_y_perc1 = perceptron1layer.predict(test_x)\n",
        "pred_y_perc2 = perceptron2layer.predict(test_x)\n",
        "plt.plot(test_x, pred_y_rbf, color = 'black')\n",
        "plt.plot(test_x ,test_y , color = 'b')\n",
        "plt.plot(test_x,pred_y_perc1, color = 'gray')\n",
        "plt.plot(test_x,pred_y_perc2, color = 'orange')\n",
        "\n",
        "plt.show()"
      ]
    }
  ],
  "metadata": {
    "colab": {
      "provenance": []
    },
    "kernelspec": {
      "display_name": "Python 3",
      "name": "python3"
    },
    "language_info": {
      "name": "python"
    }
  },
  "nbformat": 4,
  "nbformat_minor": 0
}